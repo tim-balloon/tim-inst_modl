{
 "cells": [
  {
   "cell_type": "code",
   "execution_count": 53,
   "metadata": {},
   "outputs": [],
   "source": [
    "import subprocess"
   ]
  },
  {
   "attachments": {},
   "cell_type": "markdown",
   "metadata": {},
   "source": [
    "### Setup Parameters "
   ]
  },
  {
   "cell_type": "code",
   "execution_count": 62,
   "metadata": {},
   "outputs": [],
   "source": [
    "f_start = 500 #GHz\n",
    "f_stop  = 2000 #GHz\n",
    "\n",
    "f_step  = 0.01 #GHz\n",
    "\n",
    "h2o_scale_factor = 1.0\n",
    "\n",
    "\n",
    "profile_folder = \"../profiles/\"\n",
    "profiles = ['Antarctic_DJF_3km', 'Antarctic_DJF_32km', 'Antarctic_DJF_40km',]\n",
    "\n",
    "zenith_angle = [30,45,60]"
   ]
  },
  {
   "attachments": {},
   "cell_type": "markdown",
   "metadata": {},
   "source": [
    "### Run am and Save outputs"
   ]
  },
  {
   "cell_type": "code",
   "execution_count": 64,
   "metadata": {},
   "outputs": [],
   "source": [
    "for profile in profiles:\n",
    "    for angle in zenith_angle:\n",
    "        cmd = ['am',  profile_folder+profile+'.amc', '%1d'%f_start, 'GHz', '%1d'%f_stop, 'GHz', \\\n",
    "               '%1.3f'%f_step, 'GHz', '%1d'%angle, 'deg', '%1.2f'%h2o_scale_factor]\n",
    "\n",
    "        f = open(\"../models/\"+profile+'_%1d'%angle+'deg'+'_%1.1f'%h2o_scale_factor+\".out\", \"wb\")\n",
    "        f.write((\"%s  zenith_angle %d\\n\"%(profile,angle)).encode())\n",
    "        f.write(b\"#f [GHz] tx Tb [K] Trj [K] I [watt*m-2*Hz-1*sr-1]\\n\")\n",
    "        f.write(subprocess.run(cmd, capture_output=True).stdout)\n",
    "        f.close()"
   ]
  }
 ],
 "metadata": {
  "kernelspec": {
   "display_name": "Python 3",
   "language": "python",
   "name": "python3"
  },
  "language_info": {
   "codemirror_mode": {
    "name": "ipython",
    "version": 3
   },
   "file_extension": ".py",
   "mimetype": "text/x-python",
   "name": "python",
   "nbconvert_exporter": "python",
   "pygments_lexer": "ipython3",
   "version": "3.7.7"
  },
  "orig_nbformat": 4
 },
 "nbformat": 4,
 "nbformat_minor": 2
}
