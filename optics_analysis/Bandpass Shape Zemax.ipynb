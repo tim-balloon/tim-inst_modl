{
 "cells": [
  {
   "cell_type": "markdown",
   "metadata": {},
   "source": [
    "Using the data collected from Chromatic Resolution Zemax.py to define the shape of the optics beams and the feed horn aperture illumination, we can define the spectral bandpasses of each feed horn in the TIM focal plane array. Due to the smile in the system, a curved line of field points is imaged to each row of spectral pixels. Due to the keystone, a different wavelength is imaged to each column of spatial pixels. We account for these effects plus the mismatch between the beam shape and aperture illumination."
   ]
  },
  {
   "cell_type": "code",
   "execution_count": 1,
   "metadata": {},
   "outputs": [],
   "source": [
    "import numpy as np\n",
    "import matplotlib.pyplot as plt\n",
    "import scipy.special as sps\n",
    "import time, sys\n",
    "from IPython.display import clear_output"
   ]
  },
  {
   "cell_type": "code",
   "execution_count": 2,
   "metadata": {},
   "outputs": [],
   "source": [
    "def update_progress(progress):\n",
    "    bar_length = 20\n",
    "    if isinstance(progress, int):\n",
    "        progress = float(progress)\n",
    "    if not isinstance(progress, float):\n",
    "        progress = 0\n",
    "    if progress < 0:\n",
    "        progress = 0\n",
    "    if progress >= 1:\n",
    "        progress = 1\n",
    "    block = int(round(bar_length * progress))\n",
    "    clear_output(wait = True)\n",
    "    text = \"Progress: [{0}] {1:.1f}%\".format( \"#\" * block + \"-\" * (bar_length - block), progress * 100)\n",
    "    print(text)"
   ]
  },
  {
   "cell_type": "code",
   "execution_count": 5,
   "metadata": {},
   "outputs": [],
   "source": [
    "# Plot in the input data\n",
    "def plot_spectrometer(ax, data1, data2, param_dict):\n",
    "    \"\"\"\n",
    "    A helper function to make a graph\n",
    "\n",
    "    Parameters\n",
    "    ----------\n",
    "    ax : Axes\n",
    "        The axes to draw to\n",
    "\n",
    "    data1 : array\n",
    "       The x data\n",
    "\n",
    "    data2 : array\n",
    "       The y data\n",
    "\n",
    "    param_dict : dict\n",
    "       Dictionary of kwargs to pass to ax.plot\n",
    "\n",
    "    Returns\n",
    "    -------\n",
    "    out : list\n",
    "        list of artists added\n",
    "    \"\"\"\n",
    "    out = ax.plot(data1, data2, **param_dict)\n",
    "    return out"
   ]
  },
  {
   "cell_type": "code",
   "execution_count": 3,
   "metadata": {},
   "outputs": [],
   "source": [
    "# Filepath to the output data stored in a numpy array\n",
    "filePath = 'TIM_ChromaticResData.npy'\n",
    "# data is stored in a dictionary with the keys: 'SW' and 'LW', which are dictionaries, \n",
    "# each with keys, 'SFNO', 'TFNO', 'CENX', and 'CENY'. Each entry is a numpy array \n",
    "# whose rows are fields and columns are wavelegnths\n",
    "data = np.load(filePath).item() \n",
    "# Accidental switching of names when generating data, so switch back here until new data is collected.\n",
    "SWdata = data['LW']\n",
    "LWdata = data['SW']\n",
    "# Flip the orientation of the X axis of the SW module\n",
    "SWdata['CENX'] = -1*SWdata['CENX']\n",
    "numFields = len(SWdata['CENX'])\n",
    "numWavs = len(SWdata['CENX'][0])\n",
    "# Parameters used to generate data\n",
    "SW1 = 240\n",
    "SW2 = 317\n",
    "LW1 = 317\n",
    "LW2 = 420\n",
    "F1 = -0.18\n",
    "F2 = 0.18\n",
    "wavs_SW = np.linspace(SW1,SW2,numWavs)\n",
    "wavs_LW = np.linspace(LW1,LW2,numWavs)\n",
    "fields = np.linspace(F1,F2,numFields)"
   ]
  },
  {
   "cell_type": "markdown",
   "metadata": {},
   "source": [
    "### Slow Calculation\n",
    "Need to try to parallelize the loops, or come up with a way to use matrix operations to compute all data.\n",
    "All matrix operations I tried by broadcasting ran out of memory because I tried to create many large dimensioned arrays."
   ]
  },
  {
   "cell_type": "code",
   "execution_count": 29,
   "metadata": {},
   "outputs": [
    {
     "name": "stdout",
     "output_type": "stream",
     "text": [
      "Progress: [####################] 100.0%\n"
     ]
    }
   ],
   "source": [
    "# Define feed horn center coordinates\n",
    "numPixX = 72\n",
    "numPixY = 25\n",
    "pixelPitch = 2.3\n",
    "# X axis data starts at 0, while Y axis data is centered at 0.\n",
    "x_fpa = np.linspace(0,numPixX*pixelPitch,numPixX)\n",
    "y_fpa = np.linspace(-numPixY/2*pixelPitch,numPixY/2*pixelPitch,numPixY)\n",
    "X_fpa,Y_fpa = np.meshgrid(x_fpa, y_fpa, sparse=False, indexing='xy')\n",
    "\n",
    "# To compute the PSF based on the F/#, we arbitrarily set the 'pupil' distance as z = 1,\n",
    "# which yields that the pupil semi-diameter is: a = 1/2*Fnum based on making the approx. that\n",
    "# z/a = 2*Fnum.\n",
    "#\n",
    "# Fraunhofer diffraction from an elliptical aperture is used as the PSF.\n",
    "# Ref. Far-Field Radiation Patterns of Ellipitcal Apertures and Its Annulli by Y.P. Kathuria\n",
    "#\n",
    "# Compute the Fraunhofer diffraction pattern at all feed horn positions for all fields and wavelengths.\n",
    "# We sample the diffraction pattern wtih a grid of points covering the feed horn aperture (2 mm diameter).\n",
    "x_ap = np.linspace(-1,1,11)\n",
    "y_ap = np.linspace(-1,1,11)\n",
    "X_ap,Y_ap = np.meshgrid(x_ap, y_ap, sparse=False, indexing='xy')\n",
    "\n",
    "SW_PSF = np.empty([len(y_fpa),len(x_fpa),numFields,numWavs,len(y_ap),len(x_ap)])\n",
    "LW_PSF = np.empty([len(y_fpa),len(x_fpa),numFields,numWavs,len(y_ap),len(x_ap)])\n",
    "\n",
    "num_loops = numFields*numWavs\n",
    "for f in range(numFields):\n",
    "    for w in range(numWavs):\n",
    "        update_progress((f*numWavs + w)/ num_loops)\n",
    "        a_x_LW = 1/(2*LWdata['TFNO'][f,w])\n",
    "        a_y_LW = 1/(2*LWdata['SFNO'][f,w])\n",
    "        k_LW = 2*np.pi/wavs_LW[w]\n",
    "        \n",
    "        a_x_SW = 1/(2*SWdata['TFNO'][f,w])\n",
    "        a_y_SW = 1/(2*SWdata['SFNO'][f,w])\n",
    "        # Convert from micrometers to mm\n",
    "        k_SW = 2*np.pi/(wavs_SW[w]/1000)\n",
    "        \n",
    "        x_beam_LW = LWdata['CENX'][f,w]\n",
    "        y_beam_LW = LWdata['CENY'][f,w]\n",
    "        \n",
    "        x_beam_SW = SWdata['CENX'][f,w]\n",
    "        y_beam_SW = SWdata['CENY'][f,w]\n",
    "\n",
    "        for i in range(len(y_fpa)):\n",
    "            for j in range(len(x_fpa)):\n",
    "                K_LW = k_LW*np.sqrt(np.power(a_x_LW*(X_ap-X_fpa[i,j]+x_beam_LW),2)\n",
    "                                 + np.power(a_y_LW*(Y_ap-Y_fpa[i,j]+y_beam_LW),2))\n",
    "\n",
    "                K_SW = k_SW*np.sqrt(np.power(a_x_SW*(X_ap-X_fpa[i,j]+x_beam_SW),2)\n",
    "                                 + np.power(a_y_SW*(Y_ap-Y_fpa[i,j]+y_beam_SW),2))\n",
    "                \n",
    "                SW_PSF[i,j,f,w,:,:] = np.power(2*sps.j0(K_SW)/K_SW,2)\n",
    "                LW_PSF[i,j,f,w,:,:] = np.power(2*sps.j0(K_LW)/K_LW,2)\n",
    "update_progress(1)"
   ]
  },
  {
   "cell_type": "code",
   "execution_count": 49,
   "metadata": {},
   "outputs": [],
   "source": [
    "# Multiply every PSF by the aperture illumination function evaluated at the specific wavelength.\n",
    "# Sum all entries in the resulting array and divide by area to get an approximate irradiance.\n",
    "# For a particular i,j (feed horn), plot irradiance vs. wavelength for all fields. If we don't care about\n",
    "# separate fields contributing to a single feed horn, we can even sum along the field dimension.\n",
    "# This yields the bandpass of the feed horn.\n",
    "SW_Band = np.sum(np.sum(SW_PSF, axis=5), axis=4)"
   ]
  },
  {
   "cell_type": "code",
   "execution_count": 51,
   "metadata": {},
   "outputs": [
    {
     "data": {
      "text/plain": [
       "(25, 72, 25, 200)"
      ]
     },
     "execution_count": 51,
     "metadata": {},
     "output_type": "execute_result"
    }
   ],
   "source": [
    "SW_Band.shape"
   ]
  },
  {
   "cell_type": "code",
   "execution_count": 53,
   "metadata": {},
   "outputs": [
    {
     "data": {
      "image/png": "[encoded data removed]",
      "text/plain": [
       "<Figure size 432x288 with 1 Axes>"
      ]
     },
     "metadata": {
      "needs_background": "light"
     },
     "output_type": "display_data"
    }
   ],
   "source": [
    "fig, ax = plt.subplots()\n",
    "start = 107\n",
    "stop = 114\n",
    "for f in range(numFields):\n",
    "    plot_spectrometer(ax, wavs_SW[start:stop], SW_Band[12,36,f,start:stop], {'label': 'F{}'.format(f)})\n",
    "ax.set_title('SW Bandpass at Feed {},{}'.format(12,36))\n",
    "ax.set_xlabel(r'Wavelength ($\\mu$m)')\n",
    "ax.legend();"
   ]
  },
  {
   "cell_type": "code",
   "execution_count": 55,
   "metadata": {},
   "outputs": [
    {
     "data": {
      "image/png": "[encoded data removed]",
      "text/plain": [
       "<Figure size 432x288 with 2 Axes>"
      ]
     },
     "metadata": {
      "needs_background": "light"
     },
     "output_type": "display_data"
    }
   ],
   "source": [
    "fig, ax = plt.subplots()\n",
    "im = ax.imshow(SW_PSF[12,36,13,110,:,:])\n",
    "plt.colorbar(im)\n",
    "plt.show()"
   ]
  },
  {
   "cell_type": "code",
   "execution_count": null,
   "metadata": {},
   "outputs": [],
   "source": []
  }
 ],
 "metadata": {
  "kernelspec": {
   "display_name": "Python 3",
   "language": "python",
   "name": "python3"
  },
  "language_info": {
   "codemirror_mode": {
    "name": "ipython",
    "version": 3
   },
   "file_extension": ".py",
   "mimetype": "text/x-python",
   "name": "python",
   "nbconvert_exporter": "python",
   "pygments_lexer": "ipython3",
   "version": "3.7.0"
  }
 },
 "nbformat": 4,
 "nbformat_minor": 2
}
